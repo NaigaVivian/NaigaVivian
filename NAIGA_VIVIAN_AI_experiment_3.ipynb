{
  "nbformat": 4,
  "nbformat_minor": 0,
  "metadata": {
    "colab": {
      "provenance": [],
      "authorship_tag": "ABX9TyNALv/eQQgyp4WuWR2uUhA5",
      "include_colab_link": true
    },
    "kernelspec": {
      "name": "python3",
      "display_name": "Python 3"
    },
    "language_info": {
      "name": "python"
    }
  },
  "cells": [
    {
      "cell_type": "markdown",
      "metadata": {
        "id": "view-in-github",
        "colab_type": "text"
      },
      "source": [
        "<a href=\"https://colab.research.google.com/github/NaigaVivian/NaigaVivian/blob/main/NAIGA_VIVIAN_AI_experiment_3.ipynb\" target=\"_parent\"><img src=\"https://colab.research.google.com/assets/colab-badge.svg\" alt=\"Open In Colab\"/></a>"
      ]
    },
    {
      "cell_type": "code",
      "source": [
        "!pip install torch"
      ],
      "metadata": {
        "colab": {
          "base_uri": "https://localhost:8080/"
        },
        "id": "oBq-oswlcf7K",
        "outputId": "571e6b92-9c0e-4e9b-c0c3-09d5bf66d2e7"
      },
      "execution_count": 9,
      "outputs": [
        {
          "output_type": "stream",
          "name": "stdout",
          "text": [
            "Requirement already satisfied: torch in /usr/local/lib/python3.11/dist-packages (2.6.0+cu124)\n",
            "Requirement already satisfied: filelock in /usr/local/lib/python3.11/dist-packages (from torch) (3.18.0)\n",
            "Requirement already satisfied: typing-extensions>=4.10.0 in /usr/local/lib/python3.11/dist-packages (from torch) (4.13.2)\n",
            "Requirement already satisfied: networkx in /usr/local/lib/python3.11/dist-packages (from torch) (3.4.2)\n",
            "Requirement already satisfied: jinja2 in /usr/local/lib/python3.11/dist-packages (from torch) (3.1.6)\n",
            "Requirement already satisfied: fsspec in /usr/local/lib/python3.11/dist-packages (from torch) (2025.3.2)\n",
            "Requirement already satisfied: nvidia-cuda-nvrtc-cu12==12.4.127 in /usr/local/lib/python3.11/dist-packages (from torch) (12.4.127)\n",
            "Requirement already satisfied: nvidia-cuda-runtime-cu12==12.4.127 in /usr/local/lib/python3.11/dist-packages (from torch) (12.4.127)\n",
            "Requirement already satisfied: nvidia-cuda-cupti-cu12==12.4.127 in /usr/local/lib/python3.11/dist-packages (from torch) (12.4.127)\n",
            "Requirement already satisfied: nvidia-cudnn-cu12==9.1.0.70 in /usr/local/lib/python3.11/dist-packages (from torch) (9.1.0.70)\n",
            "Requirement already satisfied: nvidia-cublas-cu12==12.4.5.8 in /usr/local/lib/python3.11/dist-packages (from torch) (12.4.5.8)\n",
            "Requirement already satisfied: nvidia-cufft-cu12==11.2.1.3 in /usr/local/lib/python3.11/dist-packages (from torch) (11.2.1.3)\n",
            "Requirement already satisfied: nvidia-curand-cu12==10.3.5.147 in /usr/local/lib/python3.11/dist-packages (from torch) (10.3.5.147)\n",
            "Requirement already satisfied: nvidia-cusolver-cu12==11.6.1.9 in /usr/local/lib/python3.11/dist-packages (from torch) (11.6.1.9)\n",
            "Requirement already satisfied: nvidia-cusparse-cu12==12.3.1.170 in /usr/local/lib/python3.11/dist-packages (from torch) (12.3.1.170)\n",
            "Requirement already satisfied: nvidia-cusparselt-cu12==0.6.2 in /usr/local/lib/python3.11/dist-packages (from torch) (0.6.2)\n",
            "Requirement already satisfied: nvidia-nccl-cu12==2.21.5 in /usr/local/lib/python3.11/dist-packages (from torch) (2.21.5)\n",
            "Requirement already satisfied: nvidia-nvtx-cu12==12.4.127 in /usr/local/lib/python3.11/dist-packages (from torch) (12.4.127)\n",
            "Requirement already satisfied: nvidia-nvjitlink-cu12==12.4.127 in /usr/local/lib/python3.11/dist-packages (from torch) (12.4.127)\n",
            "Requirement already satisfied: triton==3.2.0 in /usr/local/lib/python3.11/dist-packages (from torch) (3.2.0)\n",
            "Requirement already satisfied: sympy==1.13.1 in /usr/local/lib/python3.11/dist-packages (from torch) (1.13.1)\n",
            "Requirement already satisfied: mpmath<1.4,>=1.1.0 in /usr/local/lib/python3.11/dist-packages (from sympy==1.13.1->torch) (1.3.0)\n",
            "Requirement already satisfied: MarkupSafe>=2.0 in /usr/local/lib/python3.11/dist-packages (from jinja2->torch) (3.0.2)\n"
          ]
        }
      ]
    },
    {
      "cell_type": "code",
      "source": [
        "!pip install torch_geometric"
      ],
      "metadata": {
        "colab": {
          "base_uri": "https://localhost:8080/"
        },
        "id": "3wPfHP3hs29Q",
        "outputId": "ccefa023-97e6-473a-bd01-2cfbad4fd0d0"
      },
      "execution_count": 12,
      "outputs": [
        {
          "output_type": "stream",
          "name": "stdout",
          "text": [
            "Collecting torch_geometric\n",
            "  Downloading torch_geometric-2.6.1-py3-none-any.whl.metadata (63 kB)\n",
            "\u001b[?25l     \u001b[90m━━━━━━━━━━━━━━━━━━━━━━━━━━━━━━━━━━━━━━━━\u001b[0m \u001b[32m0.0/63.1 kB\u001b[0m \u001b[31m?\u001b[0m eta \u001b[36m-:--:--\u001b[0m\r\u001b[2K     \u001b[90m━━━━━━━━━━━━━━━━━━━━━━━━━━━━━━━━━━━━━━━━\u001b[0m \u001b[32m63.1/63.1 kB\u001b[0m \u001b[31m2.5 MB/s\u001b[0m eta \u001b[36m0:00:00\u001b[0m\n",
            "\u001b[?25hRequirement already satisfied: aiohttp in /usr/local/lib/python3.11/dist-packages (from torch_geometric) (3.11.15)\n",
            "Requirement already satisfied: fsspec in /usr/local/lib/python3.11/dist-packages (from torch_geometric) (2025.3.2)\n",
            "Requirement already satisfied: jinja2 in /usr/local/lib/python3.11/dist-packages (from torch_geometric) (3.1.6)\n",
            "Requirement already satisfied: numpy in /usr/local/lib/python3.11/dist-packages (from torch_geometric) (2.0.2)\n",
            "Requirement already satisfied: psutil>=5.8.0 in /usr/local/lib/python3.11/dist-packages (from torch_geometric) (5.9.5)\n",
            "Requirement already satisfied: pyparsing in /usr/local/lib/python3.11/dist-packages (from torch_geometric) (3.2.3)\n",
            "Requirement already satisfied: requests in /usr/local/lib/python3.11/dist-packages (from torch_geometric) (2.32.3)\n",
            "Requirement already satisfied: tqdm in /usr/local/lib/python3.11/dist-packages (from torch_geometric) (4.67.1)\n",
            "Requirement already satisfied: aiohappyeyeballs>=2.3.0 in /usr/local/lib/python3.11/dist-packages (from aiohttp->torch_geometric) (2.6.1)\n",
            "Requirement already satisfied: aiosignal>=1.1.2 in /usr/local/lib/python3.11/dist-packages (from aiohttp->torch_geometric) (1.3.2)\n",
            "Requirement already satisfied: attrs>=17.3.0 in /usr/local/lib/python3.11/dist-packages (from aiohttp->torch_geometric) (25.3.0)\n",
            "Requirement already satisfied: frozenlist>=1.1.1 in /usr/local/lib/python3.11/dist-packages (from aiohttp->torch_geometric) (1.6.0)\n",
            "Requirement already satisfied: multidict<7.0,>=4.5 in /usr/local/lib/python3.11/dist-packages (from aiohttp->torch_geometric) (6.4.3)\n",
            "Requirement already satisfied: propcache>=0.2.0 in /usr/local/lib/python3.11/dist-packages (from aiohttp->torch_geometric) (0.3.1)\n",
            "Requirement already satisfied: yarl<2.0,>=1.17.0 in /usr/local/lib/python3.11/dist-packages (from aiohttp->torch_geometric) (1.20.0)\n",
            "Requirement already satisfied: MarkupSafe>=2.0 in /usr/local/lib/python3.11/dist-packages (from jinja2->torch_geometric) (3.0.2)\n",
            "Requirement already satisfied: charset-normalizer<4,>=2 in /usr/local/lib/python3.11/dist-packages (from requests->torch_geometric) (3.4.2)\n",
            "Requirement already satisfied: idna<4,>=2.5 in /usr/local/lib/python3.11/dist-packages (from requests->torch_geometric) (3.10)\n",
            "Requirement already satisfied: urllib3<3,>=1.21.1 in /usr/local/lib/python3.11/dist-packages (from requests->torch_geometric) (2.4.0)\n",
            "Requirement already satisfied: certifi>=2017.4.17 in /usr/local/lib/python3.11/dist-packages (from requests->torch_geometric) (2025.4.26)\n",
            "Downloading torch_geometric-2.6.1-py3-none-any.whl (1.1 MB)\n",
            "\u001b[2K   \u001b[90m━━━━━━━━━━━━━━━━━━━━━━━━━━━━━━━━━━━━━━━━\u001b[0m \u001b[32m1.1/1.1 MB\u001b[0m \u001b[31m26.1 MB/s\u001b[0m eta \u001b[36m0:00:00\u001b[0m\n",
            "\u001b[?25hInstalling collected packages: torch_geometric\n",
            "Successfully installed torch_geometric-2.6.1\n"
          ]
        }
      ]
    },
    {
      "cell_type": "code",
      "source": [
        "from torch_geometric.datasets import Planetoid\n",
        "cora = Planetoid(root='./data', name='Cora')[0]\n",
        "print(cora)\n",
        "\n",
        "import torch\n",
        "from torch import nn\n",
        "from torch_geometric.nn import GCNConv\n",
        "import torch.nn.functional as F\n",
        "from torch.optim import Adam"
      ],
      "metadata": {
        "colab": {
          "base_uri": "https://localhost:8080/"
        },
        "id": "Sx5siZ83tGo_",
        "outputId": "94b3ac77-5b17-4f29-a100-7b53b080ccf5"
      },
      "execution_count": 13,
      "outputs": [
        {
          "output_type": "stream",
          "name": "stdout",
          "text": [
            "Data(x=[2708, 1433], edge_index=[2, 10556], y=[2708], train_mask=[2708], val_mask=[2708], test_mask=[2708])\n"
          ]
        }
      ]
    },
    {
      "cell_type": "code",
      "source": [
        "3"
      ],
      "metadata": {
        "id": "7kOJcfxS7R88"
      },
      "execution_count": null,
      "outputs": []
    },
    {
      "cell_type": "code",
      "source": [
        "class GCN(nn.Module):\n",
        "  def __init__(self, in_channels, hidden_channels, class_n):\n",
        "    super(GCN, self).__init__()\n",
        "    self.conv1 = GCNConv(in_channels, hidden_channels)\n",
        "    self.conv2 = GCNConv(hidden_channels, class_n)\n",
        "\n",
        "  def forward(self, x, edge_index):\n",
        "    x = torch.relu(self.conv1(x, edge_index))\n",
        "    x = torch.dropout(x, p=0.5, train=self.training)\n",
        "    x = self.conv2(x, edge_index)\n",
        "    return torch.log_softmax(x, dim=1)"
      ],
      "metadata": {
        "id": "HkOc14gS1hCY"
      },
      "execution_count": 15,
      "outputs": []
    },
    {
      "cell_type": "code",
      "source": [
        "model = GCN(cora.num_features, 16, cora.y.unique().shape[0])\n",
        "opt = Adam(model.parameters(), 0.01, weight_decay=5e-4)\n"
      ],
      "metadata": {
        "id": "xQtFwx-S2ZoR"
      },
      "execution_count": 16,
      "outputs": []
    },
    {
      "cell_type": "code",
      "source": [
        "def train(its):\n",
        "  model.train()\n",
        "  for i in range(its):\n",
        "    y = model(cora.x, cora.edge_index)\n",
        "    loss = F.nll_loss(y[cora.train_mask], cora.y[cora.train_mask])\n",
        "    loss.backward()\n",
        "    opt.step()\n",
        "    opt.zero_grad()"
      ],
      "metadata": {
        "id": "OXbm8Mry2e9r"
      },
      "execution_count": 17,
      "outputs": []
    },
    {
      "cell_type": "code",
      "source": [
        "def test():\n",
        "  model.eval()\n",
        "  y = model(cora.x, cora.edge_index)\n",
        "  right_n = torch.argmax(y[cora.test_mask], 1) == cora.y[cora.test_mask]\n",
        "  acc = right_n.sum()/cora.test_mask.sum()\n",
        "  print(\"Acc: \", acc)"
      ],
      "metadata": {
        "id": "chJmqupZ2ngi"
      },
      "execution_count": 18,
      "outputs": []
    },
    {
      "cell_type": "code",
      "source": [
        "def main():\n",
        "  for i in range(10):\n",
        "    train(1)\n",
        "    test()\n",
        "if __name__ == '__main__':\n",
        "    main()"
      ],
      "metadata": {
        "colab": {
          "base_uri": "https://localhost:8080/"
        },
        "id": "zg_wY1ED2r5L",
        "outputId": "9a6eafb8-f860-457e-d730-986cca1f53e6"
      },
      "execution_count": 19,
      "outputs": [
        {
          "output_type": "stream",
          "name": "stdout",
          "text": [
            "Acc:  tensor(0.3310)\n",
            "Acc:  tensor(0.4480)\n",
            "Acc:  tensor(0.4430)\n",
            "Acc:  tensor(0.4180)\n",
            "Acc:  tensor(0.4500)\n",
            "Acc:  tensor(0.5230)\n",
            "Acc:  tensor(0.6000)\n",
            "Acc:  tensor(0.6410)\n",
            "Acc:  tensor(0.6940)\n",
            "Acc:  tensor(0.7260)\n"
          ]
        }
      ]
    },
    {
      "cell_type": "code",
      "source": [
        "from torch_geometric.nn import SAGEConv\n",
        "class GraphSAGE(nn.Module):\n",
        "  def __init__(self, in_channels, hidden_channels, class_n):\n",
        "      super(GraphSAGE, self).__init__()\n",
        "      self.conv1 = SAGEConv(in_channels, hidden_channels)\n",
        "      self.conv2 = SAGEConv(hidden_channels, hidden_channels)\n",
        "      self.conv3 = SAGEConv(hidden_channels, class_n)\n",
        "  def forward (self, x, edge_index):\n",
        "      x = F.relu(self.conv1(x, edge_index))\n",
        "      x = F.dropout(x,\n",
        "      p=0.5, training=self.training)\n",
        "      x = self. conv2(x, edge_index)\n",
        "      x = F. dropout(x, p=0.5, training=self.training)\n",
        "      x = self.conv3(x, edge_index)\n",
        "      return F.log_softmax(x, dim=1)"
      ],
      "metadata": {
        "id": "rTxYxgdk6LJp"
      },
      "execution_count": 37,
      "outputs": []
    },
    {
      "cell_type": "code",
      "source": [
        "model = GraphSAGE(cora.num_features, 24, cora.y.unique().shape[0])\n",
        "opt = Adam(model.parameters(), 0.01, weight_decay=5e-4)"
      ],
      "metadata": {
        "id": "9dZcFb2C6V8-"
      },
      "execution_count": 38,
      "outputs": []
    },
    {
      "cell_type": "code",
      "source": [
        "def train(its):\n",
        "    model.train()\n",
        "    for i in range(its):\n",
        "        # Forward pass\n",
        "        y = model(cora.x, cora.edge_index)\n",
        "        # Calculate loss using negative log-likelihood loss\n",
        "        loss = F.nll_loss(y[cora.train_mask], cora.y[cora.train_mask])\n",
        "        # Backpropagation\n",
        "        loss.backward()\n",
        "        opt.step()\n",
        "        opt.zero_grad()"
      ],
      "metadata": {
        "id": "ptb7O19UEiCi"
      },
      "execution_count": 39,
      "outputs": []
    },
    {
      "cell_type": "code",
      "source": [
        "def test():\n",
        "    model.eval()\n",
        "    y = model(cora.x, cora.edge_index)\n",
        "    # Calculate accuracy on the test set\n",
        "    right_n = torch.argmax(y[cora.test_mask], 1) == cora.y[cora.test_mask]\n",
        "    acc = right_n.sum()/cora.test_mask.sum()\n",
        "    print(\"Acc: \", acc)"
      ],
      "metadata": {
        "id": "o0Zc0prmEkDs"
      },
      "execution_count": 40,
      "outputs": []
    },
    {
      "cell_type": "code",
      "source": [
        "def main():\n",
        "    for i in range(10):\n",
        "        train(1)  # Train for 1 iteration\n",
        "        test()    # Test after each training iteration\n",
        "\n",
        "# Run the main function\n",
        "if __name__ == '__main__':\n",
        "    main()"
      ],
      "metadata": {
        "colab": {
          "base_uri": "https://localhost:8080/"
        },
        "id": "dyhrqe7ZEoSr",
        "outputId": "f553a3bf-c481-4cbe-d5d7-bef5bee5e1d4"
      },
      "execution_count": 41,
      "outputs": [
        {
          "output_type": "stream",
          "name": "stdout",
          "text": [
            "Acc:  tensor(0.4000)\n",
            "Acc:  tensor(0.4310)\n",
            "Acc:  tensor(0.5810)\n",
            "Acc:  tensor(0.6860)\n",
            "Acc:  tensor(0.7100)\n",
            "Acc:  tensor(0.7400)\n",
            "Acc:  tensor(0.7690)\n",
            "Acc:  tensor(0.7890)\n",
            "Acc:  tensor(0.8030)\n",
            "Acc:  tensor(0.7870)\n"
          ]
        }
      ]
    },
    {
      "cell_type": "code",
      "source": [
        "import torch\n",
        "import matplotlib.pyplot as plt\n",
        "from torch_geometric.datasets import Planetoid\n",
        "import torch.nn.functional as F\n",
        "from torch.optim import Adam\n",
        "from torch_geometric.nn import GCNConv, SAGEConv\n",
        "from torch import nn\n",
        "\n",
        "# Load the Cora dataset\n",
        "cora = Planetoid(root='./data', name='Cora')[0]\n",
        "print(cora)\n",
        "\n",
        "# Define the GCN model\n",
        "class GCN(nn.Module):\n",
        "    def __init__(self, in_channels, hidden_channels, class_n):\n",
        "        super(GCN, self).__init__()\n",
        "        self.conv1 = GCNConv(in_channels, hidden_channels)\n",
        "        self.conv2 = GCNConv(hidden_channels, class_n)\n",
        "\n",
        "    def forward(self, x, edge_index):\n",
        "        x = torch.relu(self.conv1(x, edge_index))\n",
        "        x = torch.dropout(x, p=0.5, train=self.training)\n",
        "        x = self.conv2(x, edge_index)\n",
        "        return torch.log_softmax(x, dim=1)\n",
        "\n",
        "# Define the GraphSAGE model\n",
        "class GraphSAGE(nn.Module):\n",
        "    def __init__(self, in_channels, hidden_channels, class_n):\n",
        "        super(GraphSAGE, self).__init__()\n",
        "        self.conv1 = SAGEConv(in_channels, hidden_channels)\n",
        "        self.conv2 = SAGEConv(hidden_channels, class_n)\n",
        "\n",
        "    def forward(self, x, edge_index):\n",
        "        x = torch.relu(self.conv1(x, edge_index))\n",
        "        x = torch.dropout(x, p=0.5, train=self.training)\n",
        "        x = self.conv2(x, edge_index)\n",
        "        return torch.log_softmax(x, dim=1)\n",
        "\n",
        "# Function to train the model\n",
        "def train(model, optimizer, dataset, mask, num_epochs=10):\n",
        "    accuracies = []\n",
        "    for epoch in range(num_epochs):\n",
        "        model.train()\n",
        "        optimizer.zero_grad()\n",
        "        out = model(dataset.x, dataset.edge_index)\n",
        "        loss = F.nll_loss(out[mask], dataset.y[mask])\n",
        "        loss.backward()\n",
        "        optimizer.step()\n",
        "\n",
        "        # Testing\n",
        "        model.eval()\n",
        "        out = model(dataset.x, dataset.edge_index)\n",
        "        pred = out.argmax(dim=1)\n",
        "        correct = pred[dataset.test_mask] == dataset.y[dataset.test_mask]\n",
        "        acc = correct.sum().item() / dataset.test_mask.sum().item()\n",
        "        accuracies.append(acc)\n",
        "        print(f\"Epoch {epoch+1}/{num_epochs}, Loss: {loss.item():.4f}, Test Accuracy: {acc:.4f}\")\n",
        "    return accuracies\n",
        "\n",
        "# Function to plot accuracy graph\n",
        "def plot_accuracy(gcn_acc, graphsage_acc):\n",
        "    plt.figure(figsize=(10, 6))\n",
        "    plt.plot(range(1, len(gcn_acc) + 1), gcn_acc, label='GCN Accuracy', marker='o')\n",
        "    plt.plot(range(1, len(graphsage_acc) + 1), graphsage_acc, label='GraphSAGE Accuracy', marker='x')\n",
        "    plt.xlabel('Epoch')\n",
        "    plt.ylabel('Accuracy')\n",
        "    plt.title('Accuracy Comparison: GCN vs GraphSAGE')\n",
        "    plt.legend()\n",
        "    plt.grid(True)\n",
        "    plt.show()\n",
        "\n",
        "# Main function to train and compare both models\n",
        "def main():\n",
        "    # Initialize both models\n",
        "    gcn_model = GCN(cora.num_features, 16, cora.y.unique().shape[0])\n",
        "    graphsage_model = GraphSAGE(cora.num_features, 16, cora.y.unique().shape[0])\n",
        "\n",
        "    # Initialize optimizers\n",
        "    gcn_optimizer = Adam(gcn_model.parameters(), lr=0.01, weight_decay=5e-4)\n",
        "    graphsage_optimizer = Adam(graphsage_model.parameters(), lr=0.01, weight_decay=5e-4)\n",
        "\n",
        "    # Train both models and get accuracy history\n",
        "    print(\"Training GCN Model...\")\n",
        "    gcn_accuracy = train(gcn_model, gcn_optimizer, cora, cora.train_mask, num_epochs=10)\n",
        "\n",
        "    print(\"\\nTraining GraphSAGE Model...\")\n",
        "    graphsage_accuracy = train(graphsage_model, graphsage_optimizer, cora, cora.train_mask, num_epochs=10)\n",
        "\n",
        "    # Plot accuracy comparison\n",
        "    plot_accuracy(gcn_accuracy, graphsage_accuracy)\n",
        "\n",
        "if __name__ == '__main__':\n",
        "    main()"
      ],
      "metadata": {
        "colab": {
          "base_uri": "https://localhost:8080/",
          "height": 993
        },
        "id": "cLpG7_rWG-9U",
        "outputId": "a4550e2f-60ac-4f0c-fbe8-66e7f5a5ca92"
      },
      "execution_count": 53,
      "outputs": [
        {
          "output_type": "stream",
          "name": "stdout",
          "text": [
            "Data(x=[2708, 1433], edge_index=[2, 10556], y=[2708], train_mask=[2708], val_mask=[2708], test_mask=[2708])\n",
            "Training GCN Model...\n",
            "Epoch 1/10, Loss: 1.9632, Test Accuracy: 0.3590\n",
            "Epoch 2/10, Loss: 1.8757, Test Accuracy: 0.4630\n",
            "Epoch 3/10, Loss: 1.7770, Test Accuracy: 0.4680\n",
            "Epoch 4/10, Loss: 1.6612, Test Accuracy: 0.4570\n",
            "Epoch 5/10, Loss: 1.4955, Test Accuracy: 0.4700\n",
            "Epoch 6/10, Loss: 1.3833, Test Accuracy: 0.4930\n",
            "Epoch 7/10, Loss: 1.2763, Test Accuracy: 0.5290\n",
            "Epoch 8/10, Loss: 1.1609, Test Accuracy: 0.5740\n",
            "Epoch 9/10, Loss: 1.0384, Test Accuracy: 0.6120\n",
            "Epoch 10/10, Loss: 0.9594, Test Accuracy: 0.6460\n",
            "\n",
            "Training GraphSAGE Model...\n",
            "Epoch 1/10, Loss: 1.9547, Test Accuracy: 0.4350\n",
            "Epoch 2/10, Loss: 1.7928, Test Accuracy: 0.5010\n",
            "Epoch 3/10, Loss: 1.5773, Test Accuracy: 0.5300\n",
            "Epoch 4/10, Loss: 1.3776, Test Accuracy: 0.5670\n",
            "Epoch 5/10, Loss: 1.1791, Test Accuracy: 0.6230\n",
            "Epoch 6/10, Loss: 0.9630, Test Accuracy: 0.6580\n",
            "Epoch 7/10, Loss: 0.8365, Test Accuracy: 0.6790\n",
            "Epoch 8/10, Loss: 0.6983, Test Accuracy: 0.6900\n",
            "Epoch 9/10, Loss: 0.5171, Test Accuracy: 0.6950\n",
            "Epoch 10/10, Loss: 0.5235, Test Accuracy: 0.7020\n"
          ]
        },
        {
          "output_type": "display_data",
          "data": {
            "text/plain": [
              "<Figure size 1000x600 with 1 Axes>"
            ],
            "image/png": "[encoded data removed]"
          },
          "metadata": {}
        }
      ]
    }
  ]
}